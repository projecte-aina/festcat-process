{
 "cells": [
  {
   "cell_type": "markdown",
   "metadata": {},
   "source": [
    "## Imports"
   ]
  },
  {
   "cell_type": "code",
   "execution_count": null,
   "metadata": {},
   "outputs": [],
   "source": [
    "import sys\n",
    "import os\n",
    "import csv\n",
    "import subprocess\n",
    "import pandas as pd\n",
    "import numpy as np\n",
    "import logging\n",
    "logger = logging.getLogger(__name__)\n"
   ]
  },
  {
   "cell_type": "markdown",
   "metadata": {},
   "source": [
    "## Definitions"
   ]
  },
  {
   "cell_type": "code",
   "execution_count": null,
   "metadata": {},
   "outputs": [],
   "source": [
    "tsv_path = \"/home/usuaris/scratch/gerard.muniesa/speech-tech-resources/data/cv-corpus-9.0-2022-04-27/ca/validated.tsv\"\n",
    "cv_path = \"/home/usuaris/scratch/gerard.muniesa/common_voice/\""
   ]
  },
  {
   "cell_type": "markdown",
   "metadata": {},
   "source": [
    "## Utils"
   ]
  },
  {
   "cell_type": "code",
   "execution_count": null,
   "metadata": {},
   "outputs": [],
   "source": [
    "def split_df_by_gender(dataset):\n",
    "\n",
    "    print(f\"Total raws:  {(dataset.shape[0])}\")\n",
    "    \n",
    "    non_gender_specified_raws = len(np.intersect1d(dataset[dataset['gender'].isnull()]['client_id'].unique(), dataset[dataset['gender'] == 'male']['client_id'].unique())) \\\n",
    "        + len(np.intersect1d(dataset[dataset['gender'].isnull()]['client_id'].unique(), dataset[dataset['gender'] == 'female']['client_id'].unique())) + \\\n",
    "            len(np.intersect1d(dataset[dataset['gender'].isnull()]['client_id'].unique(), dataset[dataset['gender'] == 'other']['client_id'].unique()))\n",
    "\n",
    "    print(f\"Number of raws withouth the known gender written {non_gender_specified_raws}\")\n",
    "\n",
    "    print(\"Correcting...\")    \n",
    "    for user in np.ndarray.tolist(np.intersect1d(dataset[dataset['gender'].isnull()]['client_id'].unique(), dataset[dataset['gender'] == 'male']['client_id'].unique())):\n",
    "        dataset['gender'] = dataset['gender'].where((dataset['client_id'] != user), 'male')\n",
    "    print(\"Correcting...\")\n",
    "    for user in np.ndarray.tolist(np.intersect1d(dataset[dataset['gender'].isnull()]['client_id'].unique(), dataset[dataset['gender'] == 'female']['client_id'].unique())):\n",
    "        dataset['gender'] = dataset['gender'].where((dataset['client_id'] != user), 'female')\n",
    "    print(\"Correcting...\")\n",
    "    for user in np.ndarray.tolist(np.intersect1d(dataset[dataset['gender'].isnull()]['client_id'].unique(), dataset[dataset['gender'] == 'other']['client_id'].unique())):\n",
    "        dataset['gender'] = dataset['gender'].where((dataset['client_id'] != user), 'other')\n",
    "    print(\"Corrected.\")\n",
    "\n",
    "    male = dataset[dataset['gender'] == 'male']\n",
    "    female = dataset[dataset['gender'] == 'female']\n",
    "    nan = dataset[dataset['gender'].isnull()]\n",
    "    other = dataset[dataset['gender'] == 'other']\n",
    "    print(\"----------Summary---------\")\n",
    "    print(f\"Male rwas:   {male.shape[0]}\")\n",
    "    print(f\"Female rwas: {female.shape[0]}\")\n",
    "    print(f\"Other rwas:  {other.shape[0]}\")\n",
    "    print(f\"NaN rwas:    {nan.shape[0]}    +\")\n",
    "    print(\"--------------------------\")\n",
    "    result = male.shape[0] + female.shape[0] + other.shape[0] + nan.shape[0]\n",
    "    error = dataset.shape[0] - result\n",
    "    print(f\"             {result}     <--> Total raws:  {(dataset.shape[0])} (error: {error})\")\n",
    "    return dataset, male, female, other, nan"
   ]
  },
  {
   "cell_type": "code",
   "execution_count": null,
   "metadata": {},
   "outputs": [],
   "source": [
    "def get_durations_dict(filename):\n",
    "    durations = {}\n",
    "    for line in open(filename).readlines():\n",
    "        d = line.split(',')\n",
    "        if d[1]=='N/A\\n':\n",
    "            continue\n",
    "        if float(d[1]) > 10: # Discard samples bigger than 10s \n",
    "            continue\n",
    "        durations[d[0].split('/')[-1]] = float(d[1])\n",
    "    return durations"
   ]
  },
  {
   "cell_type": "markdown",
   "metadata": {},
   "source": [
    "## Code"
   ]
  },
  {
   "cell_type": "markdown",
   "metadata": {},
   "source": [
    "Correct and split by gender the dataset"
   ]
  },
  {
   "cell_type": "code",
   "execution_count": null,
   "metadata": {},
   "outputs": [],
   "source": [
    "df = pd.read_csv(tsv_path, sep='\\t')\n",
    "df , male_df, female_df, other_df, nan_df = split_df_by_gender(df)"
   ]
  },
  {
   "cell_type": "markdown",
   "metadata": {},
   "source": [
    "Preprocess audiofiles, create the necessar folders containing the preprocessed audios and extract the duration of each audio to \"sil_states.tsv\" file."
   ]
  },
  {
   "cell_type": "code",
   "execution_count": null,
   "metadata": {},
   "outputs": [],
   "source": [
    "subprocess.call([\"mkdir\", cv_path+\"clips_wavs\"])\n",
    "os.mkdir(\"%sclips_wav_22k\"%cv_path)\n",
    "os.mkdir(\"%sclips_wav_22k_sil\"%cv_path)\n",
    "os.mkdir(\"%sclips_wav_22k_sil_pad\"%cv_path)\n",
    "os.system(\"for f in %ssmall_clips_2/*.mp3;\"%cv_path +\" do t=${f%.mp3}.wav; cp $f $t; done\")\n",
    "os.system(f\"mv {cv_path}small_clips_2/*.wav  {cv_path}clips_wavs/\")\n",
    "os.system(\"for f in %sclips_wavs/*.wav; do t=${f##*/}; ffmpeg -i $f -ar 22050 %sclips_wav_22k/$t -v error < /dev/null; done;\"%(cv_path,cv_path))\n",
    "command_1 = \"for f in %sclips_wav_22k/*.wav; do t=${f##*/}; sox $f %sclips_wav_22k_sil/$t\"%(cv_path,cv_path) + \" silence 1 0.02 0.1% reverse silence 1 0.02 0.1% reverse; done\"\n",
    "os.system(command_1)\n",
    "command_2 = \"for f in %sclips_wav_22k_sil/*.wav; do d=`ffprobe -i $f -show_entries format=duration -v quiet -of csv=\"%cv_path +'\"p=0\"'+\"`; echo $f,$d; done >> %ssil_stats.csv\"%cv_path\n",
    "os.system(command_2)"
   ]
  },
  {
   "cell_type": "markdown",
   "metadata": {},
   "source": [
    "Create tsv files for all genders with the following structure: \"client_id\" \"time\" \"number of samples\" \"accent\" \"age\""
   ]
  },
  {
   "cell_type": "code",
   "execution_count": null,
   "metadata": {},
   "outputs": [],
   "source": [
    "durations = get_durations_dict(cv_path + 'sil_stats.csv')\n",
    "for gender in ['male','female','other','nan']:\n",
    "    if gender == 'male':\n",
    "        df_ = male_df\n",
    "    elif gender == 'female':\n",
    "        df_ = female_df\n",
    "    elif gender == 'other':\n",
    "        df_ = other_df\n",
    "    else:\n",
    "        df_ = nan_df\n",
    "    open(f'{cv_path}{gender}.tsv', mode= 'a').close()\n",
    "    speakers = np.ndarray.tolist(df_['client_id'].unique())\n",
    "    d_speakers = dict.fromkeys(speakers,[0, 0, \"\", \"\"])\n",
    "    with open(f'{cv_path}{gender}.tsv', mode= 'wt') as f:\n",
    "        tsv_writer = csv.writer(f, delimiter='\\t')\n",
    "        tsv_writer.writerow(['client_id', 'time', 'number of samples', 'accent', 'age'])\n",
    "        for key, value in durations.items():\n",
    "            if key.split('.')[0]+'.mp3' in df_.values:\n",
    "                client_id_ = df_.loc[df_['path'] == key.split('.')[0]+'.mp3']['client_id'].values[0]\n",
    "                client_id_ = str(client_id_)\n",
    "                age = df_.loc[df_['path'] == key.split('.')[0]+'.mp3']['age'].values[0]\n",
    "                accent = df_.loc[df_['path'] == key.split('.')[0]+'.mp3']['accents'].values[0]\n",
    "                print(f\"Before: {d_speakers[client_id_]}\")\n",
    "                d_speakers[client_id_] = [d_speakers[client_id_][0] + value, d_speakers[client_id_][-3] , d_speakers[client_id_][-2], d_speakers[client_id_][-1]]\n",
    "                d_speakers[client_id_] = [d_speakers[client_id_][0], d_speakers[client_id_][-3] + 1, d_speakers[client_id_][-2], d_speakers[client_id_][-1]]\n",
    "                print(f\"After: {d_speakers[client_id_]}\")\n",
    "                if accent != 'nan':\n",
    "                    d_speakers[client_id_] = [d_speakers[client_id_][0],d_speakers[client_id_][-3],accent, d_speakers[client_id_][-1]]\n",
    "                if age != 'nan':\n",
    "                    d_speakers[client_id_] = [d_speakers[client_id_][0],d_speakers[client_id_][-3],d_speakers[client_id_][-2], age]\n",
    "            else:\n",
    "                continue\n",
    "        for key, value in d_speakers.items():\n",
    "            tsv_writer.writerow([key, value[0],  value[-3], value[-2], value[-1]])"
   ]
  }
 ],
 "metadata": {
  "kernelspec": {
   "display_name": "Python 3.8.12 (conda)",
   "language": "python",
   "name": "python3"
  },
  "language_info": {
   "codemirror_mode": {
    "name": "ipython",
    "version": 3
   },
   "file_extension": ".py",
   "mimetype": "text/x-python",
   "name": "python",
   "nbconvert_exporter": "python",
   "pygments_lexer": "ipython3",
   "version": "3.8.12"
  },
  "orig_nbformat": 4,
  "vscode": {
   "interpreter": {
    "hash": "4245e578ed8c0d546d65fc9b004e8c2fc600ec5d8ab6c1880926041418dcbf1e"
   }
  }
 },
 "nbformat": 4,
 "nbformat_minor": 2
}
